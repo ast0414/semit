{
 "cells": [
  {
   "cell_type": "markdown",
   "metadata": {},
   "source": [
    "## Classification Model for MNIST data\n",
    "\n",
    "Used the following repos/articles for guidance and code:\n",
    "1. https://github.com/astorfi/TensorFlow-World/tree/master/docs/tutorials/3-neural_network/autoencoder\n",
    "2. https://towardsdatascience.com/understanding-input-and-output-shapes-in-convolution-network-keras-f143923d56ca\n",
    "3. https://towardsdatascience.com/image-classification-in-10-minutes-with-mnist-dataset-54c35b77a38d\n",
    "4. https://paperswithcode.com/sota/image-classification-on-mnist"
   ]
  },
  {
   "cell_type": "code",
   "execution_count": 43,
   "metadata": {},
   "outputs": [],
   "source": [
    "import tensorflow as tf\n",
    "import matplotlib.pyplot as plt\n",
    "import numpy as np\n",
    "from skimage import transform\n",
    "import sys\n",
    "import pickle\n",
    "\n",
    "# keras API uses TensorFlow or Theano\n",
    "from keras.models import Sequential\n",
    "from keras.layers import Dense, Conv2D, Dropout, Flatten, MaxPooling2D, Reshape, LeakyReLU"
   ]
  },
  {
   "cell_type": "code",
   "execution_count": 44,
   "metadata": {},
   "outputs": [
    {
     "name": "stdout",
     "output_type": "stream",
     "text": [
      "mnist_full.pkl\n",
      "obtained mnist training and testing files\n"
     ]
    }
   ],
   "source": [
    "file_pathway = 'mnist_full.pkl' # found in data folder\n",
    "print(file_pathway)\n",
    "with open(file_pathway, 'rb') as f:\n",
    "    mnist_full = pickle.load(f)\n",
    "    mnist_x_train = mnist_full[\"x_train\"]\n",
    "    mnist_y_train = mnist_full[\"y_train\"]\n",
    "    mnist_x_test = mnist_full['x_test']\n",
    "    mnist_y_test = mnist_full['y_test']\n",
    "\n",
    "print(\"obtained mnist training and testing files\")"
   ]
  },
  {
   "cell_type": "code",
   "execution_count": 40,
   "metadata": {},
   "outputs": [
    {
     "name": "stdout",
     "output_type": "stream",
     "text": [
      "0\n",
      "(55000, 1, 28, 28)\n"
     ]
    }
   ],
   "source": [
    "# greyscale visualization\n",
    "#(x_trn, y_trn), (x_tst, y_tst) = tf.keras.datasets.mnist.load_data() --> keras data itself\n",
    "x_trn = mnist_x_train\n",
    "y_trn = mnist_y_train\n",
    "x_tst = mnist_x_test\n",
    "y_tst = mnist_y_test\n",
    "img_idx = 77 # change this to be any index up to 60,000 as that is the size of the trained set\n",
    "print(y_trn[img_idx])\n",
    "print(x_trn.shape)\n",
    "#plt.imshow(x_trn[img_idx], cmap='Greys')"
   ]
  },
  {
   "cell_type": "code",
   "execution_count": 45,
   "metadata": {},
   "outputs": [],
   "source": [
    "def resize_batch(imgs):\n",
    "    # A function to resize a batch of MNIST images to (32, 32)\n",
    "    # Args:\n",
    "    #   imgs: a numpy array of size [batch_size, 28 X 28].\n",
    "    # Returns:\n",
    "    #   a numpy array of size [batch_size, 32, 32].\n",
    "    imgs = imgs.reshape((-1, 28, 28, 1))\n",
    "    resized_imgs = np.zeros((imgs.shape[0], 32, 32, 1))\n",
    "    for i in range(imgs.shape[0]):\n",
    "        resized_imgs[i, ..., 0] = transform.resize(imgs[i, ..., 0], (32, 32))\n",
    "    return resized_imgs"
   ]
  },
  {
   "cell_type": "code",
   "execution_count": 46,
   "metadata": {},
   "outputs": [
    {
     "name": "stdout",
     "output_type": "stream",
     "text": [
      "reshaping\n",
      "og x_trn.shape:  (55000, 1, 28, 28)\n",
      "og x_tst.shape:  (10000, 1, 28, 28)\n",
      "x_trn_resize_32.shape:  (55000, 32, 32, 1)\n",
      "x_tst_resize_32.shape:  (10000, 32, 32, 1)\n",
      "new x train shape:  (55000, 32, 32, 1)\n",
      "Number of images in x train:  55000\n",
      "Number of images in x test:  10000\n",
      "finished reshaping\n"
     ]
    }
   ],
   "source": [
    "# reshape and normalize images\n",
    "\n",
    "print(\"reshaping\")\n",
    "\n",
    "pix_size = 32\n",
    "\n",
    "print(\"og x_trn.shape: \",x_trn.shape)\n",
    "print(\"og x_tst.shape: \", x_tst.shape)\n",
    "\n",
    "x_trn_resize_32 = resize_batch(x_trn)\n",
    "x_tst_resize_32 = resize_batch(x_tst)\n",
    "\n",
    "print(\"x_trn_resize_32.shape: \",x_trn_resize_32.shape)\n",
    "print(\"x_tst_resize_32.shape: \",x_tst_resize_32.shape)\n",
    "\n",
    "x_trn_2 = x_trn_resize_32.reshape(x_trn_resize_32.shape[0], pix_size, pix_size, 1)\n",
    "x_tst_2 = x_tst_resize_32.reshape(x_tst_resize_32.shape[0], pix_size, pix_size, 1)\n",
    "x_trn_2 = x_trn_2.astype('float32')\n",
    "x_tst_2 = x_tst_2.astype('float32')\n",
    "\n",
    "x_trn_2 /= 255\n",
    "x_tst_2 /= 255\n",
    "\n",
    "print(\"new x train shape: \", x_trn_2.shape)\n",
    "print(\"Number of images in x train: \", x_trn_2.shape[0])\n",
    "print(\"Number of images in x test: \", x_tst_2.shape[0])\n",
    "\n",
    "print(\"finished reshaping\")"
   ]
  },
  {
   "cell_type": "code",
   "execution_count": 47,
   "metadata": {},
   "outputs": [],
   "source": [
    "# building convolutional neural network -- CNN\n",
    "in_shape = (32, 32, 1)\n",
    "mdl = Sequential()\n",
    "kernel_size_conv = (4,4) # originally 3,3\n",
    "#convolutional layer\n",
    "conv_2d = Conv2D(pix_size, kernel_size=kernel_size_conv, padding=\"same\", strides=(2,2), input_shape=in_shape)\n",
    "mdl.add(conv_2d)\n",
    "\n",
    "#increasing output channel (filter) size\n",
    "in_shape = (32, 32, 1)\n",
    "conv_2d = Conv2D(64, kernel_size=kernel_size_conv, padding=\"same\", strides=(2,2), input_shape=in_shape)\n",
    "mdl.add(conv_2d)\n",
    "in_shape = (64, 64, 1)\n",
    "conv_2d = Conv2D(128, kernel_size=kernel_size_conv, padding=\"same\", strides=(2,2), input_shape=in_shape)\n",
    "mdl.add(conv_2d)\n",
    "in_shape = (128, 128, 1)\n",
    "conv_2d = Conv2D(256, kernel_size=kernel_size_conv, padding=\"same\", strides=(2,2), input_shape=in_shape)\n",
    "mdl.add(conv_2d)\n",
    "in_shape = (256, 256, 1)\n",
    "conv_2d = Conv2D(512, kernel_size=kernel_size_conv, padding=\"same\", strides=(2,2), input_shape=in_shape)\n",
    "mdl.add(conv_2d)\n",
    "\n",
    "#leaky relu layer\n",
    "leaky_reLU = LeakyReLU(alpha=0.2)\n",
    "mdl.add(leaky_reLU)\n",
    "#maxpool_2d = MaxPooling2D(pool_size=(2,2))\n",
    "\n",
    "#dropout layer\n",
    "dropout = Dropout(0.2)\n",
    "mdl.add(dropout)\n",
    "\n",
    "#flatten layer\n",
    "flat = Flatten()\n",
    "mdl.add(flat)\n",
    "\n",
    "#dense layer\n",
    "dense_r = 512 # originally 128\n",
    "denselayer_r = Dense(dense_r, activation=tf.nn.relu) # changed density\n",
    "mdl.add(denselayer_r)\n",
    "dense_c = 10\n",
    "denselayer_c = Dense(dense_c, activation=tf.nn.softmax)\n",
    "mdl.add(denselayer_c)"
   ]
  },
  {
   "cell_type": "code",
   "execution_count": 48,
   "metadata": {},
   "outputs": [
    {
     "name": "stdout",
     "output_type": "stream",
     "text": [
      "Epoch 1/10\n",
      "55000/55000 [==============================] - 229s 4ms/step - loss: 0.4201 - accuracy: 0.8595\n",
      "Epoch 2/10\n",
      "55000/55000 [==============================] - 227s 4ms/step - loss: 0.1791 - accuracy: 0.9453\n",
      "Epoch 3/10\n",
      "55000/55000 [==============================] - 227s 4ms/step - loss: 0.1486 - accuracy: 0.9533\n",
      "Epoch 4/10\n",
      "55000/55000 [==============================] - 385s 7ms/step - loss: 0.1311 - accuracy: 0.9598\n",
      "Epoch 5/10\n",
      "55000/55000 [==============================] - 226s 4ms/step - loss: 0.1231 - accuracy: 0.9627\n",
      "Epoch 6/10\n",
      "55000/55000 [==============================] - 226s 4ms/step - loss: 0.1093 - accuracy: 0.9670\n",
      "Epoch 7/10\n",
      "55000/55000 [==============================] - 241s 4ms/step - loss: 0.1082 - accuracy: 0.9672\n",
      "Epoch 8/10\n",
      "55000/55000 [==============================] - 226s 4ms/step - loss: 0.1167 - accuracy: 0.9656\n",
      "Epoch 9/10\n",
      "55000/55000 [==============================] - 311s 6ms/step - loss: 0.0934 - accuracy: 0.9722\n",
      "Epoch 10/10\n",
      "55000/55000 [==============================] - 231s 4ms/step - loss: 0.0942 - accuracy: 0.9718\n"
     ]
    },
    {
     "data": {
      "text/plain": [
       "<keras.callbacks.callbacks.History at 0x152c85d68>"
      ]
     },
     "execution_count": 48,
     "metadata": {},
     "output_type": "execute_result"
    }
   ],
   "source": [
    "# compiling and fitting model\n",
    "\n",
    "mdl.compile(optimizer='adam',loss='sparse_categorical_crossentropy', metrics=['accuracy'])\n",
    "mdl.fit(x=x_trn_2, y=y_trn, epochs=10)"
   ]
  },
  {
   "cell_type": "code",
   "execution_count": 49,
   "metadata": {},
   "outputs": [
    {
     "name": "stdout",
     "output_type": "stream",
     "text": [
      "10000/10000 [==============================] - 2s 159us/step\n"
     ]
    },
    {
     "data": {
      "text/plain": [
       "[0.11381538770179468, 0.9672999978065491]"
      ]
     },
     "execution_count": 49,
     "metadata": {},
     "output_type": "execute_result"
    }
   ],
   "source": [
    "# evaluate model\n",
    "mdl.evaluate(x_tst_2, y_tst)"
   ]
  },
  {
   "cell_type": "code",
   "execution_count": 50,
   "metadata": {},
   "outputs": [
    {
     "name": "stdout",
     "output_type": "stream",
     "text": [
      "9\n"
     ]
    },
    {
     "data": {
      "image/png": "[encoded data removed]",
      "text/plain": [
       "<Figure size 432x288 with 1 Axes>"
      ]
     },
     "metadata": {
      "needs_background": "light"
     },
     "output_type": "display_data"
    }
   ],
   "source": [
    "#individual predictions\n",
    "img_idx = 4444\n",
    "plt.imshow(x_tst_2[img_idx].reshape(pix_size,pix_size), cmap='Greys')\n",
    "pred = mdl.predict(x_tst_2[img_idx].reshape(1, pix_size, pix_size, 1))\n",
    "print(pred.argmax())"
   ]
  }
 ],
 "metadata": {
  "kernelspec": {
   "display_name": "Python 3",
   "language": "python",
   "name": "python3"
  },
  "language_info": {
   "codemirror_mode": {
    "name": "ipython",
    "version": 3
   },
   "file_extension": ".py",
   "mimetype": "text/x-python",
   "name": "python",
   "nbconvert_exporter": "python",
   "pygments_lexer": "ipython3",
   "version": "3.7.2"
  }
 },
 "nbformat": 4,
 "nbformat_minor": 2
}
