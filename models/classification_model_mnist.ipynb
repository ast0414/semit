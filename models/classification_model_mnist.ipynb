{
 "cells": [
  {
   "cell_type": "markdown",
   "metadata": {},
   "source": [
    "## Classification Model for MNIST data\n",
    "\n",
    "Used the following repos/articles for guidance and code:\n",
    "1. https://github.com/astorfi/TensorFlow-World/tree/master/docs/tutorials/3-neural_network/autoencoder\n",
    "2. https://towardsdatascience.com/understanding-input-and-output-shapes-in-convolution-network-keras-f143923d56ca\n",
    "3. https://towardsdatascience.com/image-classification-in-10-minutes-with-mnist-dataset-54c35b77a38d\n",
    "4. https://paperswithcode.com/sota/image-classification-on-mnist"
   ]
  },
  {
   "cell_type": "code",
   "execution_count": 79,
   "metadata": {},
   "outputs": [],
   "source": [
    "import tensorflow as tf\n",
    "import matplotlib.pyplot as plt\n",
    "import numpy as np\n",
    "from skimage import transform\n",
    "\n",
    "# keras API uses TensorFlow or Theano\n",
    "from keras.models import Sequential\n",
    "from keras.layers import Dense, Conv2D, Dropout, Flatten, MaxPooling2D, Reshape, LeakyReLU"
   ]
  },
  {
   "cell_type": "code",
   "execution_count": 80,
   "metadata": {},
   "outputs": [
    {
     "name": "stdout",
     "output_type": "stream",
     "text": [
      "8\n"
     ]
    },
    {
     "data": {
      "text/plain": [
       "<matplotlib.image.AxesImage at 0x1469369e8>"
      ]
     },
     "execution_count": 80,
     "metadata": {},
     "output_type": "execute_result"
    },
    {
     "data": {
      "image/png": "[encoded data removed]",
      "text/plain": [
       "<Figure size 432x288 with 1 Axes>"
      ]
     },
     "metadata": {
      "needs_background": "light"
     },
     "output_type": "display_data"
    }
   ],
   "source": [
    "# greyscale visualization\n",
    "(x_trn, y_trn), (x_tst, y_tst) = tf.keras.datasets.mnist.load_data()\n",
    "img_idx = 7777 # change this to be any index up to 60,000 as that is the size of the trained set\n",
    "print(y_trn[img_idx])\n",
    "plt.imshow(x_trn[img_idx], cmap='Greys')"
   ]
  },
  {
   "cell_type": "code",
   "execution_count": 83,
   "metadata": {},
   "outputs": [],
   "source": [
    "def resize_batch(imgs):\n",
    "    # A function to resize a batch of MNIST images to (32, 32)\n",
    "    # Args:\n",
    "    #   imgs: a numpy array of size [batch_size, 28 X 28].\n",
    "    # Returns:\n",
    "    #   a numpy array of size [batch_size, 32, 32].\n",
    "    imgs = imgs.reshape((-1, 28, 28, 1))\n",
    "    resized_imgs = np.zeros((imgs.shape[0], 32, 32, 1))\n",
    "    for i in range(imgs.shape[0]):\n",
    "        resized_imgs[i, ..., 0] = transform.resize(imgs[i, ..., 0], (32, 32))\n",
    "    return resized_imgs"
   ]
  },
  {
   "cell_type": "code",
   "execution_count": 84,
   "metadata": {},
   "outputs": [
    {
     "name": "stdout",
     "output_type": "stream",
     "text": [
      "og x_trn.shape:  (60000, 28, 28)\n",
      "og x_tst.shape:  (10000, 28, 28)\n",
      "x_trn_resize_32.shape:  (60000, 32, 32, 1)\n",
      "x_tst_resize_32.shape:  (10000, 32, 32, 1)\n",
      "new x train shape:  (60000, 32, 32, 1)\n",
      "Number of images in x train:  60000\n",
      "Number of images in x test:  10000\n"
     ]
    }
   ],
   "source": [
    "# reshape and normalize images\n",
    "\n",
    "pix_size = 32\n",
    "\n",
    "print(\"og x_trn.shape: \",x_trn.shape)\n",
    "print(\"og x_tst.shape: \", x_tst.shape)\n",
    "\n",
    "x_trn_resize_32 = resize_batch(x_trn)\n",
    "x_tst_resize_32 = resize_batch(x_tst)\n",
    "\n",
    "print(\"x_trn_resize_32.shape: \",x_trn_resize_32.shape)\n",
    "print(\"x_tst_resize_32.shape: \",x_tst_resize_32.shape)\n",
    "\n",
    "x_trn_2 = x_trn_resize_32.reshape(x_trn_resize_32.shape[0], pix_size, pix_size, 1)\n",
    "x_tst_2 = x_tst_resize_32.reshape(x_tst_resize_32.shape[0], pix_size, pix_size, 1)\n",
    "x_trn_2 = x_trn_2.astype('float32')\n",
    "x_tst_2 = x_tst_2.astype('float32')\n",
    "\n",
    "x_trn_2 /= 255\n",
    "x_tst_2 /= 255\n",
    "\n",
    "print(\"new x train shape: \", x_trn_2.shape)\n",
    "print(\"Number of images in x train: \", x_trn_2.shape[0])\n",
    "print(\"Number of images in x test: \", x_tst_2.shape[0])"
   ]
  },
  {
   "cell_type": "code",
   "execution_count": 90,
   "metadata": {},
   "outputs": [],
   "source": [
    "# building convolutional neural network -- CNN\n",
    "in_shape = (32, 32, 1)\n",
    "mdl = Sequential()\n",
    "kernel_size_conv = (4,4) # originally 3,3\n",
    "#convolutional layer\n",
    "conv_2d = Conv2D(pix_size, kernel_size=kernel_size_conv, padding=\"same\", strides=(2,2), input_shape=in_shape)\n",
    "mdl.add(conv_2d)\n",
    "\n",
    "#increasing output channel (filter) size\n",
    "in_shape = (32, 32, 1)\n",
    "conv_2d = Conv2D(64, kernel_size=kernel_size_conv, padding=\"same\", strides=(2,2), input_shape=in_shape)\n",
    "mdl.add(conv_2d)\n",
    "in_shape = (64, 64, 1)\n",
    "conv_2d = Conv2D(128, kernel_size=kernel_size_conv, padding=\"same\", strides=(2,2), input_shape=in_shape)\n",
    "mdl.add(conv_2d)\n",
    "in_shape = (128, 128, 1)\n",
    "conv_2d = Conv2D(256, kernel_size=kernel_size_conv, padding=\"same\", strides=(2,2), input_shape=in_shape)\n",
    "mdl.add(conv_2d)\n",
    "in_shape = (256, 256, 1)\n",
    "conv_2d = Conv2D(512, kernel_size=kernel_size_conv, padding=\"same\", strides=(2,2), input_shape=in_shape)\n",
    "mdl.add(conv_2d)\n",
    "\n",
    "#leaky relu layer\n",
    "leaky_reLU = LeakyReLU(alpha=0.2)\n",
    "mdl.add(leaky_reLU)\n",
    "#maxpool_2d = MaxPooling2D(pool_size=(2,2))\n",
    "\n",
    "#dropout layer\n",
    "dropout = Dropout(0.2)\n",
    "mdl.add(dropout)\n",
    "\n",
    "#flatten layer\n",
    "flat = Flatten()\n",
    "mdl.add(flat)\n",
    "\n",
    "#dense layer\n",
    "dense_r = 512 # originally 128\n",
    "denselayer_r = Dense(dense_r, activation=tf.nn.relu) # changed density\n",
    "mdl.add(denselayer_r)\n",
    "dense_c = 10\n",
    "denselayer_c = Dense(dense_c, activation=tf.nn.softmax)\n",
    "mdl.add(denselayer_c)"
   ]
  },
  {
   "cell_type": "code",
   "execution_count": 91,
   "metadata": {},
   "outputs": [
    {
     "name": "stdout",
     "output_type": "stream",
     "text": [
      "Epoch 1/10\n",
      "60000/60000 [==============================] - 246s 4ms/step - loss: 0.3681 - accuracy: 0.8776\n",
      "Epoch 2/10\n",
      "60000/60000 [==============================] - 245s 4ms/step - loss: 0.1693 - accuracy: 0.9473\n",
      "Epoch 3/10\n",
      "60000/60000 [==============================] - 245s 4ms/step - loss: 0.1432 - accuracy: 0.9560\n",
      "Epoch 4/10\n",
      "60000/60000 [==============================] - 246s 4ms/step - loss: 0.1321 - accuracy: 0.9599\n",
      "Epoch 5/10\n",
      "60000/60000 [==============================] - 248s 4ms/step - loss: 0.1143 - accuracy: 0.9649\n",
      "Epoch 6/10\n",
      "60000/60000 [==============================] - 244s 4ms/step - loss: 0.1154 - accuracy: 0.9653\n",
      "Epoch 7/10\n",
      "60000/60000 [==============================] - 245s 4ms/step - loss: 0.1030 - accuracy: 0.9687\n",
      "Epoch 8/10\n",
      "60000/60000 [==============================] - 251s 4ms/step - loss: 0.1089 - accuracy: 0.9679\n",
      "Epoch 9/10\n",
      "60000/60000 [==============================] - 247s 4ms/step - loss: 0.0986 - accuracy: 0.9707\n",
      "Epoch 10/10\n",
      "60000/60000 [==============================] - 247s 4ms/step - loss: 0.0975 - accuracy: 0.9708\n"
     ]
    },
    {
     "data": {
      "text/plain": [
       "<keras.callbacks.callbacks.History at 0x14bed32b0>"
      ]
     },
     "execution_count": 91,
     "metadata": {},
     "output_type": "execute_result"
    }
   ],
   "source": [
    "# compiling and fitting model\n",
    "\n",
    "mdl.compile(optimizer='adam',loss='sparse_categorical_crossentropy', metrics=['accuracy'])\n",
    "mdl.fit(x=x_trn_2, y=y_trn, epochs=10)"
   ]
  },
  {
   "cell_type": "code",
   "execution_count": 92,
   "metadata": {},
   "outputs": [
    {
     "name": "stdout",
     "output_type": "stream",
     "text": [
      "10000/10000 [==============================] - 2s 156us/step\n"
     ]
    },
    {
     "data": {
      "text/plain": [
       "[0.08974744679627475, 0.9732000231742859]"
      ]
     },
     "execution_count": 92,
     "metadata": {},
     "output_type": "execute_result"
    }
   ],
   "source": [
    "# evaluate model\n",
    "mdl.evaluate(x_tst_2, y_tst)"
   ]
  },
  {
   "cell_type": "code",
   "execution_count": 93,
   "metadata": {},
   "outputs": [
    {
     "name": "stdout",
     "output_type": "stream",
     "text": [
      "9\n"
     ]
    },
    {
     "data": {
      "image/png": "[encoded data removed]",
      "text/plain": [
       "<Figure size 432x288 with 1 Axes>"
      ]
     },
     "metadata": {
      "needs_background": "light"
     },
     "output_type": "display_data"
    }
   ],
   "source": [
    "#individual predictions\n",
    "img_idx = 4444\n",
    "plt.imshow(x_tst_2[img_idx].reshape(pix_size,pix_size), cmap='Greys')\n",
    "pred = mdl.predict(x_tst_2[img_idx].reshape(1, pix_size, pix_size, 1))\n",
    "print(pred.argmax())"
   ]
  }
 ],
 "metadata": {
  "kernelspec": {
   "display_name": "Python 3",
   "language": "python",
   "name": "python3"
  }
 },
 "nbformat": 4,
 "nbformat_minor": 2
}
