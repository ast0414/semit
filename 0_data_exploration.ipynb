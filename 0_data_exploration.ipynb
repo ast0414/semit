{
 "cells": [
  {
   "cell_type": "code",
   "execution_count": 1,
   "metadata": {},
   "outputs": [],
   "source": [
    "%matplotlib inline"
   ]
  },
  {
   "cell_type": "code",
   "execution_count": 2,
   "metadata": {},
   "outputs": [],
   "source": [
    "import pickle\n",
    "from mpl_toolkits.mplot3d import Axes3D\n",
    "from sklearn.preprocessing import StandardScaler\n",
    "from sklearn.model_selection import train_test_split\n",
    "import matplotlib.pyplot as plt # plotting\n",
    "import seaborn as sns\n",
    "import numpy as np # linear algebra\n",
    "import os # accessing directory structure\n",
    "import pandas as pd # data processing, CSV file I/O (e.g. pd.read_csv)"
   ]
  },
  {
   "cell_type": "code",
   "execution_count": 3,
   "metadata": {},
   "outputs": [],
   "source": [
    "SEED=1"
   ]
  },
  {
   "cell_type": "code",
   "execution_count": 4,
   "metadata": {},
   "outputs": [],
   "source": [
    "np.random.seed(SEED)"
   ]
  },
  {
   "cell_type": "markdown",
   "metadata": {},
   "source": [
    "# Some functions"
   ]
  },
  {
   "cell_type": "code",
   "execution_count": 5,
   "metadata": {},
   "outputs": [],
   "source": [
    "def load_Kannada_mnist(file_type='npz',ds_dir='/localscratch/shared/san37/Datasets'):\n",
    "    if file_type=='npz':\n",
    "        npz_dir=os.path.join(ds_dir,'Kannada_MNIST_npz')  \n",
    "        y_test=np.load(os.path.join(npz_dir,'Kannada_MNIST','y_kannada_MNIST_test.npz'))\n",
    "        y_test=y_test.f.arr_0\n",
    "        X_test=np.load(os.path.join(npz_dir,'Kannada_MNIST','X_kannada_MNIST_test.npz'))\n",
    "        X_test=X_test.f.arr_0\n",
    "        y_train=np.load(os.path.join(npz_dir,'Kannada_MNIST','y_kannada_MNIST_train.npz'))\n",
    "        y_train=y_train.f.arr_0\n",
    "        X_train=np.load(os.path.join(npz_dir,'Kannada_MNIST','X_kannada_MNIST_train.npz'))\n",
    "        X_train=X_train.f.arr_0\n",
    "    else:\n",
    "        gz_dir=os.path.join(ds_dir,'Kannada_MNIST_Ubyte_gz') \n",
    "        y_test=load_idx(os.path.join(gz_dir,'Kannada_MNIST','y_kannada_MNIST_test-idx1-ubyte.gz'))\n",
    "        X_test=load_idx(os.path.join(gz_dir,'Kannada_MNIST','X_kannada_MNIST_test-idx3-ubyte.gz'))\n",
    "        y_train=load_idx(os.path.join(gz_dir,'Kannada_MNIST','y_kannada_MNIST_train-idx1-ubyte.gz'))\n",
    "        X_train=load_idx(os.path.join(gz_dir,'Kannada_MNIST','X_kannada_MNIST_train-idx3-ubyte.gz'))\n",
    "    return (X_train, y_train), (X_test, y_test)"
   ]
  },
  {
   "cell_type": "code",
   "execution_count": 6,
   "metadata": {},
   "outputs": [],
   "source": [
    "def load_Dig_mnist(file_type='npz',ds_dir='/localscratch/shared/san37/Datasets'):\n",
    "    if file_type=='npz':\n",
    "        npz_dir=os.path.join(ds_dir,'Kannada_MNIST_npz')  \n",
    "        y_dig=np.load(os.path.join(npz_dir,'Dig_MNIST','y_dig_MNIST.npz'))\n",
    "        y_dig=y_dig.f.arr_0\n",
    "        X_dig=np.load(os.path.join(npz_dir,'Dig_MNIST','X_dig_MNIST.npz'))\n",
    "        X_dig=X_dig.f.arr_0\n",
    "\n",
    "    else:\n",
    "        gz_dir=os.path.join(ds_dir,'Kannada_MNIST_Ubyte_gz') \n",
    "        y_dig=load_idx(os.path.join(gz_dir,'Dig_MNIST','y_dig_MNIST-idx1-ubyte.gz'))\n",
    "        X_dig=load_idx(os.path.join(gz_dir,'Dig_MNIST','X_dig_MNIST-idx3-ubyte.gz'))\n",
    "    return (X_dig, y_dig)"
   ]
  },
  {
   "cell_type": "code",
   "execution_count": 7,
   "metadata": {},
   "outputs": [],
   "source": [
    "def load_mnist(file_type='npz',ds_dir='/localscratch/shared/san37/Datasets'):\n",
    "    if file_type=='npz':\n",
    "        npz_dir=os.path.join(ds_dir,'MNIST')\n",
    "        with np.load(os.path.join(npz_dir, 'mnist.npz')) as f:\n",
    "            x_train, y_train = f['x_train'], f['y_train']\n",
    "            x_test, y_test = f['x_test'], f['y_test']\n",
    "    else:\n",
    "        raise AttributeError\n",
    "    \n",
    "    return (x_train, y_train), (x_test, y_test)"
   ]
  },
  {
   "cell_type": "markdown",
   "metadata": {},
   "source": [
    "# MNIST"
   ]
  },
  {
   "cell_type": "code",
   "execution_count": 8,
   "metadata": {},
   "outputs": [],
   "source": [
    "(x_train, y_train), (x_test, y_test) = load_mnist('npz')"
   ]
  },
  {
   "cell_type": "markdown",
   "metadata": {},
   "source": [
    "### add a channel axis for convenient usage later"
   ]
  },
  {
   "cell_type": "code",
   "execution_count": 9,
   "metadata": {},
   "outputs": [],
   "source": [
    "x_train = np.expand_dims(x_train, 1)\n",
    "x_test = np.expand_dims(x_test, 1)"
   ]
  },
  {
   "cell_type": "code",
   "execution_count": 10,
   "metadata": {},
   "outputs": [
    {
     "data": {
      "text/plain": [
       "(60000, 1, 28, 28)"
      ]
     },
     "execution_count": 10,
     "metadata": {},
     "output_type": "execute_result"
    }
   ],
   "source": [
    "x_train.shape"
   ]
  },
  {
   "cell_type": "code",
   "execution_count": 11,
   "metadata": {},
   "outputs": [
    {
     "data": {
      "text/plain": [
       "(10000, 1, 28, 28)"
      ]
     },
     "execution_count": 11,
     "metadata": {},
     "output_type": "execute_result"
    }
   ],
   "source": [
    "x_test.shape"
   ]
  },
  {
   "cell_type": "code",
   "execution_count": 12,
   "metadata": {},
   "outputs": [
    {
     "data": {
      "text/plain": [
       "array([5, 0, 4, ..., 5, 6, 8], dtype=uint8)"
      ]
     },
     "execution_count": 12,
     "metadata": {},
     "output_type": "execute_result"
    }
   ],
   "source": [
    "y_train"
   ]
  },
  {
   "cell_type": "code",
   "execution_count": 13,
   "metadata": {},
   "outputs": [
    {
     "data": {
      "text/plain": [
       "array([7, 2, 1, ..., 4, 5, 6], dtype=uint8)"
      ]
     },
     "execution_count": 13,
     "metadata": {},
     "output_type": "execute_result"
    }
   ],
   "source": [
    "y_test"
   ]
  },
  {
   "cell_type": "markdown",
   "metadata": {},
   "source": [
    "### Normalize to [0, 1]"
   ]
  },
  {
   "cell_type": "code",
   "execution_count": 14,
   "metadata": {},
   "outputs": [],
   "source": [
    "x_train = x_train / 255.0\n",
    "x_test = x_test / 255.0"
   ]
  },
  {
   "cell_type": "code",
   "execution_count": 15,
   "metadata": {},
   "outputs": [
    {
     "name": "stdout",
     "output_type": "stream",
     "text": [
      "0.0 1.0 0.0 1.0\n"
     ]
    }
   ],
   "source": [
    "print(x_train.min(), x_train.max(), x_test.min(), x_test.max())"
   ]
  },
  {
   "cell_type": "markdown",
   "metadata": {},
   "source": [
    "### Sample Visualization"
   ]
  },
  {
   "cell_type": "code",
   "execution_count": 16,
   "metadata": {},
   "outputs": [
    {
     "data": {
      "text/plain": [
       "Text(0.5, 0.98, 'MNIST Training set - Classwise mean images')"
      ]
     },
     "execution_count": 16,
     "metadata": {},
     "output_type": "execute_result"
    },
    {
     "data": {
      "image/png": "[encoded data removed]",
      "text/plain": [
       "<Figure size 432x288 with 10 Axes>"
      ]
     },
     "metadata": {
      "needs_background": "light"
     },
     "output_type": "display_data"
    }
   ],
   "source": [
    "for i in range(10):\n",
    "  plt.subplot(1,10,i+1)\n",
    "  plt.imshow(np.squeeze(np.mean(x_train[y_train==i], axis=0)),cmap='gray')\n",
    "  plt.axis('Off')\n",
    "  plt.title(i)  \n",
    "  plt.tight_layout()\n",
    "plt.suptitle('MNIST Training set - Classwise mean images')"
   ]
  },
  {
   "cell_type": "markdown",
   "metadata": {},
   "source": [
    "### Train/Validation Split"
   ]
  },
  {
   "cell_type": "code",
   "execution_count": 17,
   "metadata": {},
   "outputs": [],
   "source": [
    "x_train, x_val, y_train, y_val = train_test_split(x_train, y_train, test_size=5000, stratify=y_train)"
   ]
  },
  {
   "cell_type": "code",
   "execution_count": 18,
   "metadata": {},
   "outputs": [
    {
     "data": {
      "text/plain": [
       "Text(0.5, 1.0, 'test')"
      ]
     },
     "execution_count": 18,
     "metadata": {},
     "output_type": "execute_result"
    },
    {
     "data": {
      "image/png": "[encoded data removed]",
      "text/plain": [
       "<Figure size 1080x360 with 3 Axes>"
      ]
     },
     "metadata": {
      "needs_background": "light"
     },
     "output_type": "display_data"
    }
   ],
   "source": [
    "fig, ax =plt.subplots(1, 3, figsize=(15, 5))\n",
    "a1 = sns.countplot(y_train, ax=ax[0])\n",
    "a1.set_title('train')\n",
    "a3 = sns.countplot(y_val, ax=ax[1])\n",
    "a3.set_title('val')\n",
    "a4 = sns.countplot(y_test, ax=ax[2])\n",
    "a4.set_title('test')"
   ]
  },
  {
   "cell_type": "code",
   "execution_count": 19,
   "metadata": {},
   "outputs": [],
   "source": [
    "mnist_full_dataset = {\"x_train\": x_train,\n",
    "                      \"y_train\": y_train,\n",
    "                      \"x_val\": x_val,\n",
    "                      \"y_val\": y_val,\n",
    "                      \"x_test\": x_test,\n",
    "                      \"y_test\": y_test,\n",
    "                      }"
   ]
  },
  {
   "cell_type": "code",
   "execution_count": 20,
   "metadata": {},
   "outputs": [],
   "source": [
    "os.makedirs('data', exist_ok=True)"
   ]
  },
  {
   "cell_type": "code",
   "execution_count": 21,
   "metadata": {},
   "outputs": [],
   "source": [
    "with open(\"data/mnist_full.pkl\", 'wb') as f:\n",
    "    pickle.dump(mnist_full_dataset, f, pickle.HIGHEST_PROTOCOL)"
   ]
  },
  {
   "cell_type": "markdown",
   "metadata": {},
   "source": [
    "# Kannada-MNIST"
   ]
  },
  {
   "cell_type": "code",
   "execution_count": 22,
   "metadata": {},
   "outputs": [],
   "source": [
    "(x_train, y_train), (x_test, y_test)=load_Kannada_mnist('npz')"
   ]
  },
  {
   "cell_type": "markdown",
   "metadata": {},
   "source": [
    "### add a channel axis for convenient usage later"
   ]
  },
  {
   "cell_type": "code",
   "execution_count": 23,
   "metadata": {},
   "outputs": [],
   "source": [
    "x_train = np.expand_dims(x_train, 1)\n",
    "x_test = np.expand_dims(x_test, 1)"
   ]
  },
  {
   "cell_type": "code",
   "execution_count": 24,
   "metadata": {},
   "outputs": [
    {
     "data": {
      "text/plain": [
       "(60000, 1, 28, 28)"
      ]
     },
     "execution_count": 24,
     "metadata": {},
     "output_type": "execute_result"
    }
   ],
   "source": [
    "x_train.shape"
   ]
  },
  {
   "cell_type": "code",
   "execution_count": 25,
   "metadata": {},
   "outputs": [
    {
     "data": {
      "text/plain": [
       "(10000, 1, 28, 28)"
      ]
     },
     "execution_count": 25,
     "metadata": {},
     "output_type": "execute_result"
    }
   ],
   "source": [
    "x_test.shape"
   ]
  },
  {
   "cell_type": "code",
   "execution_count": 26,
   "metadata": {},
   "outputs": [
    {
     "data": {
      "text/plain": [
       "array([0, 1, 2, ..., 7, 8, 9], dtype=uint8)"
      ]
     },
     "execution_count": 26,
     "metadata": {},
     "output_type": "execute_result"
    }
   ],
   "source": [
    "y_train"
   ]
  },
  {
   "cell_type": "code",
   "execution_count": 27,
   "metadata": {},
   "outputs": [
    {
     "data": {
      "text/plain": [
       "array([0, 1, 2, ..., 7, 8, 9], dtype=uint8)"
      ]
     },
     "execution_count": 27,
     "metadata": {},
     "output_type": "execute_result"
    }
   ],
   "source": [
    "y_test"
   ]
  },
  {
   "cell_type": "markdown",
   "metadata": {},
   "source": [
    "### Normalize to [0, 1]"
   ]
  },
  {
   "cell_type": "code",
   "execution_count": 28,
   "metadata": {},
   "outputs": [],
   "source": [
    "x_train = x_train / 255.0\n",
    "x_test = x_test / 255.0"
   ]
  },
  {
   "cell_type": "code",
   "execution_count": 29,
   "metadata": {},
   "outputs": [
    {
     "name": "stdout",
     "output_type": "stream",
     "text": [
      "0.0 1.0 0.0 1.0\n"
     ]
    }
   ],
   "source": [
    "print(x_train.min(), x_train.max(), x_test.min(), x_test.max())"
   ]
  },
  {
   "cell_type": "code",
   "execution_count": 30,
   "metadata": {},
   "outputs": [
    {
     "data": {
      "text/plain": [
       "Text(0.5, 0.98, 'K-MNIST Training set - Classwise mean images')"
      ]
     },
     "execution_count": 30,
     "metadata": {},
     "output_type": "execute_result"
    },
    {
     "data": {
      "image/png": "[encoded data removed]",
      "text/plain": [
       "<Figure size 432x288 with 10 Axes>"
      ]
     },
     "metadata": {
      "needs_background": "light"
     },
     "output_type": "display_data"
    }
   ],
   "source": [
    "for i in range(10):\n",
    "  plt.subplot(1,10,i+1)\n",
    "  plt.imshow(np.squeeze(np.mean(x_train[y_train==i], axis=0)),cmap='gray')\n",
    "  plt.axis('Off')\n",
    "  plt.title(i)  \n",
    "  plt.tight_layout()\n",
    "plt.suptitle('K-MNIST Training set - Classwise mean images')"
   ]
  },
  {
   "cell_type": "markdown",
   "metadata": {},
   "source": [
    "### Train/Validation Split"
   ]
  },
  {
   "cell_type": "code",
   "execution_count": 31,
   "metadata": {},
   "outputs": [],
   "source": [
    "x_train, x_val, y_train, y_val = train_test_split(x_train, y_train, test_size=5000, stratify=y_train)"
   ]
  },
  {
   "cell_type": "markdown",
   "metadata": {},
   "source": [
    "### Semi-supervised set"
   ]
  },
  {
   "cell_type": "code",
   "execution_count": 32,
   "metadata": {},
   "outputs": [],
   "source": [
    "RATIO_LABELED = 0.01"
   ]
  },
  {
   "cell_type": "code",
   "execution_count": 33,
   "metadata": {},
   "outputs": [],
   "source": [
    "x_train_unlabeled, x_train_labeled, y_train_unlabeled, y_train_labeled = train_test_split(x_train, y_train, test_size=RATIO_LABELED, stratify=y_train)"
   ]
  },
  {
   "cell_type": "code",
   "execution_count": 34,
   "metadata": {},
   "outputs": [
    {
     "data": {
      "text/plain": [
       "Text(0.5, 1.0, 'test')"
      ]
     },
     "execution_count": 34,
     "metadata": {},
     "output_type": "execute_result"
    },
    {
     "data": {
      "image/png": "[encoded data removed]",
      "text/plain": [
       "<Figure size 1440x360 with 4 Axes>"
      ]
     },
     "metadata": {
      "needs_background": "light"
     },
     "output_type": "display_data"
    }
   ],
   "source": [
    "fig, ax =plt.subplots(1, 4, figsize=(20, 5))\n",
    "a1 = sns.countplot(y_train_labeled, ax=ax[0])\n",
    "a1.set_title('train (labeled)')\n",
    "a2 = sns.countplot(y_train_unlabeled, ax=ax[1])\n",
    "a2.set_title('train (unlabeled)')\n",
    "a3 = sns.countplot(y_val, ax=ax[2])\n",
    "a3.set_title('val')\n",
    "a4 = sns.countplot(y_test, ax=ax[3])\n",
    "a4.set_title('test')"
   ]
  },
  {
   "cell_type": "code",
   "execution_count": 35,
   "metadata": {},
   "outputs": [],
   "source": [
    "kannada_semi = {\"x_train_labeled\": x_train_labeled,\n",
    "                \"y_train_labeled\": y_train_labeled,\n",
    "                \"x_train_unlabeled\": x_train_unlabeled,\n",
    "                \"y_train_unlabeled\": y_train_unlabeled,\n",
    "                \"x_val\": x_val,\n",
    "                \"y_val\": y_val,\n",
    "                \"x_test\": x_test,\n",
    "                \"y_test\": y_test,\n",
    "                }"
   ]
  },
  {
   "cell_type": "code",
   "execution_count": 36,
   "metadata": {},
   "outputs": [],
   "source": [
    "with open(\"data/kannada_semi_{}pct.pkl\".format(int(RATIO_LABELED*100)), 'wb') as f:\n",
    "    pickle.dump(kannada_semi, f, pickle.HIGHEST_PROTOCOL)"
   ]
  },
  {
   "cell_type": "markdown",
   "metadata": {},
   "source": [
    "# Dig-Kannada"
   ]
  },
  {
   "cell_type": "code",
   "execution_count": 37,
   "metadata": {},
   "outputs": [],
   "source": [
    "x_test, y_test=load_Dig_mnist('npz')"
   ]
  },
  {
   "cell_type": "markdown",
   "metadata": {},
   "source": [
    "### add a channel axis for convenient usage later"
   ]
  },
  {
   "cell_type": "code",
   "execution_count": 38,
   "metadata": {},
   "outputs": [],
   "source": [
    "x_test = np.expand_dims(x_test, 1)"
   ]
  },
  {
   "cell_type": "code",
   "execution_count": 39,
   "metadata": {},
   "outputs": [
    {
     "data": {
      "text/plain": [
       "(10240, 1, 28, 28)"
      ]
     },
     "execution_count": 39,
     "metadata": {},
     "output_type": "execute_result"
    }
   ],
   "source": [
    "x_test.shape"
   ]
  },
  {
   "cell_type": "code",
   "execution_count": 40,
   "metadata": {},
   "outputs": [
    {
     "data": {
      "text/plain": [
       "array([0, 1, 2, ..., 7, 8, 9], dtype=uint8)"
      ]
     },
     "execution_count": 40,
     "metadata": {},
     "output_type": "execute_result"
    }
   ],
   "source": [
    "y_test"
   ]
  },
  {
   "cell_type": "markdown",
   "metadata": {},
   "source": [
    "### Normalize to [0, 1]"
   ]
  },
  {
   "cell_type": "code",
   "execution_count": 41,
   "metadata": {},
   "outputs": [],
   "source": [
    "x_test = x_test / 255.0"
   ]
  },
  {
   "cell_type": "code",
   "execution_count": 42,
   "metadata": {},
   "outputs": [
    {
     "name": "stdout",
     "output_type": "stream",
     "text": [
      "0.0 1.0\n"
     ]
    }
   ],
   "source": [
    "print(x_test.min(), x_test.max())"
   ]
  },
  {
   "cell_type": "code",
   "execution_count": 43,
   "metadata": {},
   "outputs": [
    {
     "data": {
      "text/plain": [
       "Text(0.5, 0.98, 'DIG-MNIST Test set - Classwise mean images')"
      ]
     },
     "execution_count": 43,
     "metadata": {},
     "output_type": "execute_result"
    },
    {
     "data": {
      "image/png": "[encoded data removed]",
      "text/plain": [
       "<Figure size 432x288 with 10 Axes>"
      ]
     },
     "metadata": {
      "needs_background": "light"
     },
     "output_type": "display_data"
    }
   ],
   "source": [
    "for i in range(10):\n",
    "  plt.subplot(1,10,i+1)\n",
    "  plt.imshow(np.squeeze(np.mean(x_test[y_test==i], axis=0)),cmap='gray')\n",
    "  plt.axis('Off')\n",
    "  plt.title(i)  \n",
    "  plt.tight_layout()\n",
    "plt.suptitle('DIG-MNIST Test set - Classwise mean images')"
   ]
  },
  {
   "cell_type": "code",
   "execution_count": 44,
   "metadata": {},
   "outputs": [
    {
     "data": {
      "text/plain": [
       "Text(0.5, 1.0, 'Dig Test')"
      ]
     },
     "execution_count": 44,
     "metadata": {},
     "output_type": "execute_result"
    },
    {
     "data": {
      "image/png": "[encoded data removed]",
      "text/plain": [
       "<Figure size 360x360 with 1 Axes>"
      ]
     },
     "metadata": {
      "needs_background": "light"
     },
     "output_type": "display_data"
    }
   ],
   "source": [
    "fig, ax =plt.subplots(1, 1, figsize=(5, 5))\n",
    "a4 = sns.countplot(y_test, ax=ax)\n",
    "a4.set_title('Dig Test')"
   ]
  },
  {
   "cell_type": "code",
   "execution_count": 45,
   "metadata": {},
   "outputs": [],
   "source": [
    "dig_test = {\n",
    "            \"x_test\": x_test,\n",
    "            \"y_test\": y_test,\n",
    "            }"
   ]
  },
  {
   "cell_type": "code",
   "execution_count": 46,
   "metadata": {},
   "outputs": [],
   "source": [
    "with open(\"data/dig_test.pkl\", 'wb') as f:\n",
    "    pickle.dump(dig_test, f, pickle.HIGHEST_PROTOCOL)"
   ]
  }
 ],
 "metadata": {
  "kernelspec": {
   "display_name": "Python 3",
   "language": "python",
   "name": "python3"
  },
  "language_info": {
   "codemirror_mode": {
    "name": "ipython",
    "version": 3
   },
   "file_extension": ".py",
   "mimetype": "text/x-python",
   "name": "python",
   "nbconvert_exporter": "python",
   "pygments_lexer": "ipython3",
   "version": "3.7.6"
  }
 },
 "nbformat": 4,
 "nbformat_minor": 4
}
