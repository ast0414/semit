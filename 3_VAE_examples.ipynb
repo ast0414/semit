{
 "cells": [
  {
   "cell_type": "code",
   "execution_count": 1,
   "metadata": {},
   "outputs": [],
   "source": [
    "%matplotlib inline"
   ]
  },
  {
   "cell_type": "code",
   "execution_count": 2,
   "metadata": {},
   "outputs": [
    {
     "name": "stdout",
     "output_type": "stream",
     "text": [
      "env: CUDA_DEVICE_ORDER=PCI_BUS_ID\n",
      "env: CUDA_VISIBLE_DEVICES=0\n"
     ]
    }
   ],
   "source": [
    "%env CUDA_DEVICE_ORDER=PCI_BUS_ID\n",
    "%env CUDA_VISIBLE_DEVICES=0"
   ]
  },
  {
   "cell_type": "code",
   "execution_count": 3,
   "metadata": {},
   "outputs": [],
   "source": [
    "import pickle\n",
    "import matplotlib.pyplot as plt\n",
    "\n",
    "import torch\n",
    "from torch.utils.data import DataLoader, TensorDataset\n",
    "from torch import nn, optim\n",
    "from torch.nn import functional as F\n",
    "from torchvision import datasets, transforms\n",
    "from torchvision.utils import make_grid"
   ]
  },
  {
   "cell_type": "code",
   "execution_count": 4,
   "metadata": {},
   "outputs": [],
   "source": [
    "SEED = 1\n",
    "BATCH_SIZE = 128\n",
    "EPOCHS = 20\n",
    "NUM_WORKERS = 4\n",
    "PIN_MEMORY = False\n",
    "LOG_INTERVAL = 100"
   ]
  },
  {
   "cell_type": "code",
   "execution_count": 5,
   "metadata": {},
   "outputs": [],
   "source": [
    "class VAE(nn.Module):\n",
    "    def __init__(self):\n",
    "        super(VAE, self).__init__()\n",
    "\n",
    "        self.fc1 = nn.Linear(784, 400)\n",
    "        self.fc21 = nn.Linear(400, 20)\n",
    "        self.fc22 = nn.Linear(400, 20)\n",
    "        self.fc3 = nn.Linear(20, 400)\n",
    "        self.fc4 = nn.Linear(400, 784)\n",
    "\n",
    "    def encode(self, x):\n",
    "        h1 = F.relu(self.fc1(x))\n",
    "        return self.fc21(h1), self.fc22(h1)\n",
    "\n",
    "    def reparameterize(self, mu, logvar):\n",
    "        std = torch.exp(0.5*logvar)\n",
    "        eps = torch.randn_like(std)\n",
    "        return mu + eps*std\n",
    "\n",
    "    def decode(self, z):\n",
    "        h3 = F.relu(self.fc3(z))\n",
    "        return torch.sigmoid(self.fc4(h3))\n",
    "\n",
    "    def forward(self, x):\n",
    "        mu, logvar = self.encode(x.view(-1, 784))\n",
    "        z = self.reparameterize(mu, logvar)\n",
    "        return self.decode(z), mu, logvar"
   ]
  },
  {
   "cell_type": "code",
   "execution_count": 6,
   "metadata": {},
   "outputs": [],
   "source": [
    "torch.manual_seed(SEED)\n",
    "device = torch.device(\"cuda\" if torch.cuda.is_available() else \"cpu\")"
   ]
  },
  {
   "cell_type": "code",
   "execution_count": 7,
   "metadata": {},
   "outputs": [],
   "source": [
    "with open('data/mnist_full.pkl', 'rb') as f:\n",
    "    mnist_full = pickle.load(f)"
   ]
  },
  {
   "cell_type": "code",
   "execution_count": 8,
   "metadata": {},
   "outputs": [],
   "source": [
    "x_train = mnist_full[\"x_train\"]\n",
    "y_train = mnist_full[\"y_train\"]\n",
    "x_val = mnist_full[\"x_val\"]\n",
    "y_val = mnist_full[\"y_val\"]\n",
    "x_test = mnist_full['x_test']\n",
    "y_test = mnist_full['y_test']"
   ]
  },
  {
   "cell_type": "code",
   "execution_count": 9,
   "metadata": {},
   "outputs": [],
   "source": [
    "train_dataset = TensorDataset(torch.from_numpy(x_train).float(), torch.from_numpy(y_train).long())\n",
    "val_dataset = TensorDataset(torch.from_numpy(x_val).float(), torch.from_numpy(y_val).long())\n",
    "test_dataset = TensorDataset(torch.from_numpy(x_test).float(), torch.from_numpy(y_test).long())"
   ]
  },
  {
   "cell_type": "code",
   "execution_count": 10,
   "metadata": {},
   "outputs": [],
   "source": [
    "train_loader = DataLoader(train_dataset, batch_size=BATCH_SIZE, shuffle=True, num_workers=NUM_WORKERS)\n",
    "test_loader = DataLoader(test_dataset, batch_size=BATCH_SIZE, shuffle=False, num_workers=NUM_WORKERS)"
   ]
  },
  {
   "cell_type": "code",
   "execution_count": 11,
   "metadata": {},
   "outputs": [],
   "source": [
    "model = VAE().to(device)\n",
    "optimizer = optim.Adam(model.parameters(), lr=1e-3)"
   ]
  },
  {
   "cell_type": "code",
   "execution_count": 12,
   "metadata": {},
   "outputs": [],
   "source": [
    "# Reconstruction + KL divergence losses summed over all elements and batch\n",
    "def loss_function(recon_x, x, mu, logvar):\n",
    "    BCE = F.binary_cross_entropy(recon_x, x.view(-1, 784), reduction='sum')\n",
    "\n",
    "    # see Appendix B from VAE paper:\n",
    "    # Kingma and Welling. Auto-Encoding Variational Bayes. ICLR, 2014\n",
    "    # https://arxiv.org/abs/1312.6114\n",
    "    # 0.5 * sum(1 + log(sigma^2) - mu^2 - sigma^2)\n",
    "    KLD = -0.5 * torch.sum(1 + logvar - mu.pow(2) - logvar.exp())\n",
    "\n",
    "    return BCE + KLD"
   ]
  },
  {
   "cell_type": "code",
   "execution_count": 13,
   "metadata": {},
   "outputs": [],
   "source": [
    "def train(epoch):\n",
    "    model.train()\n",
    "    train_loss = 0\n",
    "    for batch_idx, (data, _) in enumerate(train_loader):\n",
    "        data = data.to(device)\n",
    "        optimizer.zero_grad()\n",
    "        recon_batch, mu, logvar = model(data)\n",
    "        loss = loss_function(recon_batch, data, mu, logvar)\n",
    "        loss.backward()\n",
    "        train_loss += loss.item()\n",
    "        optimizer.step()\n",
    "        if batch_idx % LOG_INTERVAL == 0:\n",
    "            print('Train Epoch: {} [{}/{} ({:.0f}%)]\\tLoss: {:.6f}'.format(\n",
    "                epoch, batch_idx * len(data), len(train_loader.dataset),\n",
    "                100. * batch_idx / len(train_loader),\n",
    "                loss.item() / len(data)))\n",
    "\n",
    "    print('====> Epoch: {} Average loss: {:.4f}'.format(\n",
    "          epoch, train_loss / len(train_loader.dataset)))"
   ]
  },
  {
   "cell_type": "code",
   "execution_count": 14,
   "metadata": {},
   "outputs": [],
   "source": [
    "def test(epoch):\n",
    "    model.eval()\n",
    "    test_loss = 0\n",
    "    with torch.no_grad():\n",
    "        for i, (data, _) in enumerate(test_loader):\n",
    "            data = data.to(device)\n",
    "            recon_batch, mu, logvar = model(data)\n",
    "            test_loss += loss_function(recon_batch, data, mu, logvar).item()\n",
    "#             if i == 0:\n",
    "#                 n = min(data.size(0), 8)\n",
    "#                 comparison = torch.cat([data[:n],\n",
    "#                                       recon_batch.view(args.batch_size, 1, 28, 28)[:n]])\n",
    "#                 save_image(comparison.cpu(),\n",
    "#                          'results/reconstruction_' + str(epoch) + '.png', nrow=n)\n",
    "\n",
    "    test_loss /= len(test_loader.dataset)\n",
    "    print('====> Test set loss: {:.4f}'.format(test_loss))"
   ]
  },
  {
   "cell_type": "code",
   "execution_count": 15,
   "metadata": {},
   "outputs": [
    {
     "name": "stdout",
     "output_type": "stream",
     "text": [
      "Train Epoch: 1 [0/55000 (0%)]\tLoss: 550.746948\n",
      "Train Epoch: 1 [12800/55000 (23%)]\tLoss: 182.750534\n",
      "Train Epoch: 1 [25600/55000 (47%)]\tLoss: 151.432098\n",
      "Train Epoch: 1 [38400/55000 (70%)]\tLoss: 138.108337\n",
      "Train Epoch: 1 [51200/55000 (93%)]\tLoss: 131.438995\n",
      "====> Epoch: 1 Average loss: 168.2009\n",
      "====> Test set loss: 130.0737\n",
      "Train Epoch: 2 [0/55000 (0%)]\tLoss: 132.847916\n",
      "Train Epoch: 2 [12800/55000 (23%)]\tLoss: 125.364250\n",
      "Train Epoch: 2 [25600/55000 (47%)]\tLoss: 124.322678\n",
      "Train Epoch: 2 [38400/55000 (70%)]\tLoss: 124.047089\n",
      "Train Epoch: 2 [51200/55000 (93%)]\tLoss: 115.778244\n",
      "====> Epoch: 2 Average loss: 123.3818\n",
      "====> Test set loss: 117.4071\n",
      "Train Epoch: 3 [0/55000 (0%)]\tLoss: 117.303062\n",
      "Train Epoch: 3 [12800/55000 (23%)]\tLoss: 116.933510\n",
      "Train Epoch: 3 [25600/55000 (47%)]\tLoss: 118.475998\n",
      "Train Epoch: 3 [38400/55000 (70%)]\tLoss: 115.075127\n",
      "Train Epoch: 3 [51200/55000 (93%)]\tLoss: 114.509148\n",
      "====> Epoch: 3 Average loss: 115.5959\n",
      "====> Test set loss: 112.5445\n",
      "Train Epoch: 4 [0/55000 (0%)]\tLoss: 110.238380\n",
      "Train Epoch: 4 [12800/55000 (23%)]\tLoss: 112.501175\n",
      "Train Epoch: 4 [25600/55000 (47%)]\tLoss: 113.358551\n",
      "Train Epoch: 4 [38400/55000 (70%)]\tLoss: 110.991318\n",
      "Train Epoch: 4 [51200/55000 (93%)]\tLoss: 108.865906\n",
      "====> Epoch: 4 Average loss: 112.2155\n",
      "====> Test set loss: 110.1921\n",
      "Train Epoch: 5 [0/55000 (0%)]\tLoss: 111.847733\n",
      "Train Epoch: 5 [12800/55000 (23%)]\tLoss: 111.537155\n",
      "Train Epoch: 5 [25600/55000 (47%)]\tLoss: 111.173676\n",
      "Train Epoch: 5 [38400/55000 (70%)]\tLoss: 108.847122\n",
      "Train Epoch: 5 [51200/55000 (93%)]\tLoss: 111.227257\n",
      "====> Epoch: 5 Average loss: 110.2669\n",
      "====> Test set loss: 108.7295\n",
      "Train Epoch: 6 [0/55000 (0%)]\tLoss: 114.113373\n",
      "Train Epoch: 6 [12800/55000 (23%)]\tLoss: 106.560547\n",
      "Train Epoch: 6 [25600/55000 (47%)]\tLoss: 110.529099\n",
      "Train Epoch: 6 [38400/55000 (70%)]\tLoss: 109.865677\n",
      "Train Epoch: 6 [51200/55000 (93%)]\tLoss: 108.110199\n",
      "====> Epoch: 6 Average loss: 108.9964\n",
      "====> Test set loss: 107.6718\n",
      "Train Epoch: 7 [0/55000 (0%)]\tLoss: 107.646599\n",
      "Train Epoch: 7 [12800/55000 (23%)]\tLoss: 106.595886\n",
      "Train Epoch: 7 [25600/55000 (47%)]\tLoss: 106.000969\n",
      "Train Epoch: 7 [38400/55000 (70%)]\tLoss: 106.525475\n",
      "Train Epoch: 7 [51200/55000 (93%)]\tLoss: 109.387527\n",
      "====> Epoch: 7 Average loss: 108.0292\n",
      "====> Test set loss: 107.2628\n",
      "Train Epoch: 8 [0/55000 (0%)]\tLoss: 106.678955\n",
      "Train Epoch: 8 [12800/55000 (23%)]\tLoss: 105.989906\n",
      "Train Epoch: 8 [25600/55000 (47%)]\tLoss: 111.908882\n",
      "Train Epoch: 8 [38400/55000 (70%)]\tLoss: 102.952599\n",
      "Train Epoch: 8 [51200/55000 (93%)]\tLoss: 105.271805\n",
      "====> Epoch: 8 Average loss: 107.3820\n",
      "====> Test set loss: 106.4495\n",
      "Train Epoch: 9 [0/55000 (0%)]\tLoss: 105.310768\n",
      "Train Epoch: 9 [12800/55000 (23%)]\tLoss: 109.848312\n",
      "Train Epoch: 9 [25600/55000 (47%)]\tLoss: 102.372238\n",
      "Train Epoch: 9 [38400/55000 (70%)]\tLoss: 114.158943\n",
      "Train Epoch: 9 [51200/55000 (93%)]\tLoss: 104.067909\n",
      "====> Epoch: 9 Average loss: 106.8529\n",
      "====> Test set loss: 106.2850\n",
      "Train Epoch: 10 [0/55000 (0%)]\tLoss: 105.075424\n",
      "Train Epoch: 10 [12800/55000 (23%)]\tLoss: 105.652161\n",
      "Train Epoch: 10 [25600/55000 (47%)]\tLoss: 107.834511\n",
      "Train Epoch: 10 [38400/55000 (70%)]\tLoss: 109.256638\n",
      "Train Epoch: 10 [51200/55000 (93%)]\tLoss: 108.419106\n",
      "====> Epoch: 10 Average loss: 106.4125\n",
      "====> Test set loss: 105.7065\n",
      "Train Epoch: 11 [0/55000 (0%)]\tLoss: 108.818611\n",
      "Train Epoch: 11 [12800/55000 (23%)]\tLoss: 106.339012\n",
      "Train Epoch: 11 [25600/55000 (47%)]\tLoss: 101.616806\n",
      "Train Epoch: 11 [38400/55000 (70%)]\tLoss: 107.505959\n",
      "Train Epoch: 11 [51200/55000 (93%)]\tLoss: 109.396080\n",
      "====> Epoch: 11 Average loss: 106.0206\n",
      "====> Test set loss: 105.4676\n",
      "Train Epoch: 12 [0/55000 (0%)]\tLoss: 106.046471\n",
      "Train Epoch: 12 [12800/55000 (23%)]\tLoss: 105.902489\n",
      "Train Epoch: 12 [25600/55000 (47%)]\tLoss: 99.464828\n",
      "Train Epoch: 12 [38400/55000 (70%)]\tLoss: 102.910255\n",
      "Train Epoch: 12 [51200/55000 (93%)]\tLoss: 105.678658\n",
      "====> Epoch: 12 Average loss: 105.7019\n",
      "====> Test set loss: 105.2585\n",
      "Train Epoch: 13 [0/55000 (0%)]\tLoss: 107.857864\n",
      "Train Epoch: 13 [12800/55000 (23%)]\tLoss: 100.741943\n",
      "Train Epoch: 13 [25600/55000 (47%)]\tLoss: 106.583313\n",
      "Train Epoch: 13 [38400/55000 (70%)]\tLoss: 102.906906\n",
      "Train Epoch: 13 [51200/55000 (93%)]\tLoss: 105.956848\n",
      "====> Epoch: 13 Average loss: 105.4381\n",
      "====> Test set loss: 105.1042\n",
      "Train Epoch: 14 [0/55000 (0%)]\tLoss: 103.046783\n",
      "Train Epoch: 14 [12800/55000 (23%)]\tLoss: 104.862152\n",
      "Train Epoch: 14 [25600/55000 (47%)]\tLoss: 104.734741\n",
      "Train Epoch: 14 [38400/55000 (70%)]\tLoss: 103.907104\n",
      "Train Epoch: 14 [51200/55000 (93%)]\tLoss: 106.174080\n",
      "====> Epoch: 14 Average loss: 105.1913\n",
      "====> Test set loss: 104.8600\n",
      "Train Epoch: 15 [0/55000 (0%)]\tLoss: 105.383247\n",
      "Train Epoch: 15 [12800/55000 (23%)]\tLoss: 103.792786\n",
      "Train Epoch: 15 [25600/55000 (47%)]\tLoss: 105.430771\n",
      "Train Epoch: 15 [38400/55000 (70%)]\tLoss: 102.598724\n",
      "Train Epoch: 15 [51200/55000 (93%)]\tLoss: 102.961739\n",
      "====> Epoch: 15 Average loss: 104.9381\n",
      "====> Test set loss: 104.5860\n",
      "Train Epoch: 16 [0/55000 (0%)]\tLoss: 109.215240\n",
      "Train Epoch: 16 [12800/55000 (23%)]\tLoss: 101.680298\n",
      "Train Epoch: 16 [25600/55000 (47%)]\tLoss: 100.728806\n",
      "Train Epoch: 16 [38400/55000 (70%)]\tLoss: 103.577209\n",
      "Train Epoch: 16 [51200/55000 (93%)]\tLoss: 105.755852\n",
      "====> Epoch: 16 Average loss: 104.7509\n",
      "====> Test set loss: 104.5236\n",
      "Train Epoch: 17 [0/55000 (0%)]\tLoss: 104.917900\n",
      "Train Epoch: 17 [12800/55000 (23%)]\tLoss: 108.090424\n",
      "Train Epoch: 17 [25600/55000 (47%)]\tLoss: 105.036400\n",
      "Train Epoch: 17 [38400/55000 (70%)]\tLoss: 101.739105\n",
      "Train Epoch: 17 [51200/55000 (93%)]\tLoss: 102.339890\n",
      "====> Epoch: 17 Average loss: 104.5927\n",
      "====> Test set loss: 104.5384\n",
      "Train Epoch: 18 [0/55000 (0%)]\tLoss: 105.997391\n",
      "Train Epoch: 18 [12800/55000 (23%)]\tLoss: 104.068298\n",
      "Train Epoch: 18 [25600/55000 (47%)]\tLoss: 105.253014\n",
      "Train Epoch: 18 [38400/55000 (70%)]\tLoss: 103.995796\n",
      "Train Epoch: 18 [51200/55000 (93%)]\tLoss: 110.003693\n",
      "====> Epoch: 18 Average loss: 104.4281\n",
      "====> Test set loss: 104.4510\n",
      "Train Epoch: 19 [0/55000 (0%)]\tLoss: 103.259323\n",
      "Train Epoch: 19 [12800/55000 (23%)]\tLoss: 103.768074\n",
      "Train Epoch: 19 [25600/55000 (47%)]\tLoss: 104.035049\n",
      "Train Epoch: 19 [38400/55000 (70%)]\tLoss: 104.442558\n",
      "Train Epoch: 19 [51200/55000 (93%)]\tLoss: 103.086700\n",
      "====> Epoch: 19 Average loss: 104.2861\n",
      "====> Test set loss: 104.0791\n",
      "Train Epoch: 20 [0/55000 (0%)]\tLoss: 105.367867\n",
      "Train Epoch: 20 [12800/55000 (23%)]\tLoss: 104.540657\n",
      "Train Epoch: 20 [25600/55000 (47%)]\tLoss: 102.295624\n",
      "Train Epoch: 20 [38400/55000 (70%)]\tLoss: 100.498657\n",
      "Train Epoch: 20 [51200/55000 (93%)]\tLoss: 105.862503\n",
      "====> Epoch: 20 Average loss: 104.1382\n",
      "====> Test set loss: 103.7565\n"
     ]
    }
   ],
   "source": [
    "for epoch in range(1, EPOCHS + 1):\n",
    "    train(epoch)\n",
    "    test(epoch)"
   ]
  },
  {
   "cell_type": "code",
   "execution_count": 16,
   "metadata": {},
   "outputs": [
    {
     "data": {
      "image/png": "[encoded data removed]",
      "text/plain": [
       "<Figure size 432x288 with 1 Axes>"
      ]
     },
     "metadata": {
      "needs_background": "light"
     },
     "output_type": "display_data"
    }
   ],
   "source": [
    "with torch.no_grad():\n",
    "    sample = torch.randn(64, 20).to(device)\n",
    "    sample = model.decode(sample).cpu()\n",
    "    grid = make_grid(sample.view(64, 1, 28, 28))\n",
    "    # Add 0.5 after unnormalizing to [0, 255] to round to nearest integer\n",
    "    ndarr = grid.mul_(255).add_(0.5).clamp_(0, 255).permute(1, 2, 0).to('cpu', torch.uint8).numpy()\n",
    "    plt.imshow(ndarr, cmap='gray')\n",
    "    #save_image(sample.view(64, 1, 28, 28),\n",
    "    #           'results/sample_' + str(epoch) + '.png')\n"
   ]
  },
  {
   "cell_type": "code",
   "execution_count": null,
   "metadata": {},
   "outputs": [],
   "source": []
  }
 ],
 "metadata": {
  "kernelspec": {
   "display_name": "Python 3",
   "language": "python",
   "name": "python3"
  },
  "language_info": {
   "codemirror_mode": {
    "name": "ipython",
    "version": 3
   },
   "file_extension": ".py",
   "mimetype": "text/x-python",
   "name": "python",
   "nbconvert_exporter": "python",
   "pygments_lexer": "ipython3",
   "version": "3.7.6"
  }
 },
 "nbformat": 4,
 "nbformat_minor": 4
}
