{
 "cells": [
  {
   "cell_type": "code",
   "execution_count": 78,
   "metadata": {},
   "outputs": [],
   "source": [
    "import tensorflow as tf\n",
    "import matplotlib.pyplot as plt\n",
    "import csv\n",
    "import pandas as pd\n",
    "import numpy as np\n",
    "\n",
    "import keras\n",
    "from keras.models import Sequential\n",
    "from keras import layers,regularizers\n",
    "\n",
    "from skimage import transform\n"
   ]
  },
  {
   "cell_type": "code",
   "execution_count": 79,
   "metadata": {},
   "outputs": [],
   "source": [
    "def resize_batch(imgs):\n",
    "    # A function to resize a batch of MNIST images to (32, 32)\n",
    "    # Args:\n",
    "    #   imgs: a numpy array of size [batch_size, 28 X 28].\n",
    "    # Returns:\n",
    "    #   a numpy array of size [batch_size, 32, 32].\n",
    "    imgs = imgs.reshape((-1, 28, 28, 1))\n",
    "    resized_imgs = np.zeros((imgs.shape[0], 32, 32, 1))\n",
    "    for i in range(imgs.shape[0]):\n",
    "        resized_imgs[i, ..., 0] = transform.resize(imgs[i, ..., 0], (32, 32))\n",
    "    return resized_imgs"
   ]
  },
  {
   "cell_type": "markdown",
   "metadata": {},
   "source": [
    "# Kannada-MNIST Baseline"
   ]
  },
  {
   "cell_type": "code",
   "execution_count": 80,
   "metadata": {},
   "outputs": [
    {
     "data": {
      "text/html": [
       "<div>\n",
       "<style scoped>\n",
       "    .dataframe tbody tr th:only-of-type {\n",
       "        vertical-align: middle;\n",
       "    }\n",
       "\n",
       "    .dataframe tbody tr th {\n",
       "        vertical-align: top;\n",
       "    }\n",
       "\n",
       "    .dataframe thead th {\n",
       "        text-align: right;\n",
       "    }\n",
       "</style>\n",
       "<table border=\"1\" class=\"dataframe\">\n",
       "  <thead>\n",
       "    <tr style=\"text-align: right;\">\n",
       "      <th></th>\n",
       "      <th>label</th>\n",
       "      <th>pixel0</th>\n",
       "      <th>pixel1</th>\n",
       "      <th>pixel2</th>\n",
       "      <th>pixel3</th>\n",
       "      <th>pixel4</th>\n",
       "      <th>pixel5</th>\n",
       "      <th>pixel6</th>\n",
       "      <th>pixel7</th>\n",
       "      <th>pixel8</th>\n",
       "      <th>...</th>\n",
       "      <th>pixel774</th>\n",
       "      <th>pixel775</th>\n",
       "      <th>pixel776</th>\n",
       "      <th>pixel777</th>\n",
       "      <th>pixel778</th>\n",
       "      <th>pixel779</th>\n",
       "      <th>pixel780</th>\n",
       "      <th>pixel781</th>\n",
       "      <th>pixel782</th>\n",
       "      <th>pixel783</th>\n",
       "    </tr>\n",
       "  </thead>\n",
       "  <tbody>\n",
       "    <tr>\n",
       "      <th>0</th>\n",
       "      <td>0</td>\n",
       "      <td>0</td>\n",
       "      <td>0</td>\n",
       "      <td>0</td>\n",
       "      <td>0</td>\n",
       "      <td>0</td>\n",
       "      <td>0</td>\n",
       "      <td>0</td>\n",
       "      <td>0</td>\n",
       "      <td>0</td>\n",
       "      <td>...</td>\n",
       "      <td>0</td>\n",
       "      <td>0</td>\n",
       "      <td>0</td>\n",
       "      <td>0</td>\n",
       "      <td>0</td>\n",
       "      <td>0</td>\n",
       "      <td>0</td>\n",
       "      <td>0</td>\n",
       "      <td>0</td>\n",
       "      <td>0</td>\n",
       "    </tr>\n",
       "    <tr>\n",
       "      <th>1</th>\n",
       "      <td>1</td>\n",
       "      <td>0</td>\n",
       "      <td>0</td>\n",
       "      <td>0</td>\n",
       "      <td>0</td>\n",
       "      <td>0</td>\n",
       "      <td>0</td>\n",
       "      <td>0</td>\n",
       "      <td>0</td>\n",
       "      <td>0</td>\n",
       "      <td>...</td>\n",
       "      <td>0</td>\n",
       "      <td>0</td>\n",
       "      <td>0</td>\n",
       "      <td>0</td>\n",
       "      <td>0</td>\n",
       "      <td>0</td>\n",
       "      <td>0</td>\n",
       "      <td>0</td>\n",
       "      <td>0</td>\n",
       "      <td>0</td>\n",
       "    </tr>\n",
       "    <tr>\n",
       "      <th>2</th>\n",
       "      <td>2</td>\n",
       "      <td>0</td>\n",
       "      <td>0</td>\n",
       "      <td>0</td>\n",
       "      <td>0</td>\n",
       "      <td>0</td>\n",
       "      <td>0</td>\n",
       "      <td>0</td>\n",
       "      <td>0</td>\n",
       "      <td>0</td>\n",
       "      <td>...</td>\n",
       "      <td>0</td>\n",
       "      <td>0</td>\n",
       "      <td>0</td>\n",
       "      <td>0</td>\n",
       "      <td>0</td>\n",
       "      <td>0</td>\n",
       "      <td>0</td>\n",
       "      <td>0</td>\n",
       "      <td>0</td>\n",
       "      <td>0</td>\n",
       "    </tr>\n",
       "    <tr>\n",
       "      <th>3</th>\n",
       "      <td>3</td>\n",
       "      <td>0</td>\n",
       "      <td>0</td>\n",
       "      <td>0</td>\n",
       "      <td>0</td>\n",
       "      <td>0</td>\n",
       "      <td>0</td>\n",
       "      <td>0</td>\n",
       "      <td>0</td>\n",
       "      <td>0</td>\n",
       "      <td>...</td>\n",
       "      <td>0</td>\n",
       "      <td>0</td>\n",
       "      <td>0</td>\n",
       "      <td>0</td>\n",
       "      <td>0</td>\n",
       "      <td>0</td>\n",
       "      <td>0</td>\n",
       "      <td>0</td>\n",
       "      <td>0</td>\n",
       "      <td>0</td>\n",
       "    </tr>\n",
       "    <tr>\n",
       "      <th>4</th>\n",
       "      <td>4</td>\n",
       "      <td>0</td>\n",
       "      <td>0</td>\n",
       "      <td>0</td>\n",
       "      <td>0</td>\n",
       "      <td>0</td>\n",
       "      <td>0</td>\n",
       "      <td>0</td>\n",
       "      <td>0</td>\n",
       "      <td>0</td>\n",
       "      <td>...</td>\n",
       "      <td>0</td>\n",
       "      <td>0</td>\n",
       "      <td>0</td>\n",
       "      <td>0</td>\n",
       "      <td>0</td>\n",
       "      <td>0</td>\n",
       "      <td>0</td>\n",
       "      <td>0</td>\n",
       "      <td>0</td>\n",
       "      <td>0</td>\n",
       "    </tr>\n",
       "    <tr>\n",
       "      <th>5</th>\n",
       "      <td>5</td>\n",
       "      <td>0</td>\n",
       "      <td>0</td>\n",
       "      <td>0</td>\n",
       "      <td>0</td>\n",
       "      <td>0</td>\n",
       "      <td>0</td>\n",
       "      <td>0</td>\n",
       "      <td>0</td>\n",
       "      <td>0</td>\n",
       "      <td>...</td>\n",
       "      <td>0</td>\n",
       "      <td>0</td>\n",
       "      <td>0</td>\n",
       "      <td>0</td>\n",
       "      <td>0</td>\n",
       "      <td>0</td>\n",
       "      <td>0</td>\n",
       "      <td>0</td>\n",
       "      <td>0</td>\n",
       "      <td>0</td>\n",
       "    </tr>\n",
       "    <tr>\n",
       "      <th>6</th>\n",
       "      <td>6</td>\n",
       "      <td>0</td>\n",
       "      <td>0</td>\n",
       "      <td>0</td>\n",
       "      <td>0</td>\n",
       "      <td>0</td>\n",
       "      <td>0</td>\n",
       "      <td>0</td>\n",
       "      <td>0</td>\n",
       "      <td>0</td>\n",
       "      <td>...</td>\n",
       "      <td>0</td>\n",
       "      <td>0</td>\n",
       "      <td>0</td>\n",
       "      <td>0</td>\n",
       "      <td>0</td>\n",
       "      <td>0</td>\n",
       "      <td>0</td>\n",
       "      <td>0</td>\n",
       "      <td>0</td>\n",
       "      <td>0</td>\n",
       "    </tr>\n",
       "    <tr>\n",
       "      <th>7</th>\n",
       "      <td>7</td>\n",
       "      <td>0</td>\n",
       "      <td>0</td>\n",
       "      <td>0</td>\n",
       "      <td>0</td>\n",
       "      <td>0</td>\n",
       "      <td>0</td>\n",
       "      <td>0</td>\n",
       "      <td>0</td>\n",
       "      <td>0</td>\n",
       "      <td>...</td>\n",
       "      <td>0</td>\n",
       "      <td>0</td>\n",
       "      <td>0</td>\n",
       "      <td>0</td>\n",
       "      <td>0</td>\n",
       "      <td>0</td>\n",
       "      <td>0</td>\n",
       "      <td>0</td>\n",
       "      <td>0</td>\n",
       "      <td>0</td>\n",
       "    </tr>\n",
       "    <tr>\n",
       "      <th>8</th>\n",
       "      <td>8</td>\n",
       "      <td>0</td>\n",
       "      <td>0</td>\n",
       "      <td>0</td>\n",
       "      <td>0</td>\n",
       "      <td>0</td>\n",
       "      <td>0</td>\n",
       "      <td>0</td>\n",
       "      <td>0</td>\n",
       "      <td>0</td>\n",
       "      <td>...</td>\n",
       "      <td>0</td>\n",
       "      <td>0</td>\n",
       "      <td>0</td>\n",
       "      <td>0</td>\n",
       "      <td>0</td>\n",
       "      <td>0</td>\n",
       "      <td>0</td>\n",
       "      <td>0</td>\n",
       "      <td>0</td>\n",
       "      <td>0</td>\n",
       "    </tr>\n",
       "    <tr>\n",
       "      <th>9</th>\n",
       "      <td>9</td>\n",
       "      <td>0</td>\n",
       "      <td>0</td>\n",
       "      <td>0</td>\n",
       "      <td>0</td>\n",
       "      <td>0</td>\n",
       "      <td>0</td>\n",
       "      <td>0</td>\n",
       "      <td>0</td>\n",
       "      <td>0</td>\n",
       "      <td>...</td>\n",
       "      <td>0</td>\n",
       "      <td>0</td>\n",
       "      <td>0</td>\n",
       "      <td>0</td>\n",
       "      <td>0</td>\n",
       "      <td>0</td>\n",
       "      <td>0</td>\n",
       "      <td>0</td>\n",
       "      <td>0</td>\n",
       "      <td>0</td>\n",
       "    </tr>\n",
       "    <tr>\n",
       "      <th>10</th>\n",
       "      <td>0</td>\n",
       "      <td>0</td>\n",
       "      <td>0</td>\n",
       "      <td>0</td>\n",
       "      <td>0</td>\n",
       "      <td>0</td>\n",
       "      <td>0</td>\n",
       "      <td>0</td>\n",
       "      <td>0</td>\n",
       "      <td>0</td>\n",
       "      <td>...</td>\n",
       "      <td>0</td>\n",
       "      <td>0</td>\n",
       "      <td>0</td>\n",
       "      <td>0</td>\n",
       "      <td>0</td>\n",
       "      <td>0</td>\n",
       "      <td>0</td>\n",
       "      <td>0</td>\n",
       "      <td>0</td>\n",
       "      <td>0</td>\n",
       "    </tr>\n",
       "  </tbody>\n",
       "</table>\n",
       "<p>11 rows × 785 columns</p>\n",
       "</div>"
      ],
      "text/plain": [
       "    label  pixel0  pixel1  pixel2  pixel3  pixel4  pixel5  pixel6  pixel7  \\\n",
       "0       0       0       0       0       0       0       0       0       0   \n",
       "1       1       0       0       0       0       0       0       0       0   \n",
       "2       2       0       0       0       0       0       0       0       0   \n",
       "3       3       0       0       0       0       0       0       0       0   \n",
       "4       4       0       0       0       0       0       0       0       0   \n",
       "5       5       0       0       0       0       0       0       0       0   \n",
       "6       6       0       0       0       0       0       0       0       0   \n",
       "7       7       0       0       0       0       0       0       0       0   \n",
       "8       8       0       0       0       0       0       0       0       0   \n",
       "9       9       0       0       0       0       0       0       0       0   \n",
       "10      0       0       0       0       0       0       0       0       0   \n",
       "\n",
       "    pixel8  ...  pixel774  pixel775  pixel776  pixel777  pixel778  pixel779  \\\n",
       "0        0  ...         0         0         0         0         0         0   \n",
       "1        0  ...         0         0         0         0         0         0   \n",
       "2        0  ...         0         0         0         0         0         0   \n",
       "3        0  ...         0         0         0         0         0         0   \n",
       "4        0  ...         0         0         0         0         0         0   \n",
       "5        0  ...         0         0         0         0         0         0   \n",
       "6        0  ...         0         0         0         0         0         0   \n",
       "7        0  ...         0         0         0         0         0         0   \n",
       "8        0  ...         0         0         0         0         0         0   \n",
       "9        0  ...         0         0         0         0         0         0   \n",
       "10       0  ...         0         0         0         0         0         0   \n",
       "\n",
       "    pixel780  pixel781  pixel782  pixel783  \n",
       "0          0         0         0         0  \n",
       "1          0         0         0         0  \n",
       "2          0         0         0         0  \n",
       "3          0         0         0         0  \n",
       "4          0         0         0         0  \n",
       "5          0         0         0         0  \n",
       "6          0         0         0         0  \n",
       "7          0         0         0         0  \n",
       "8          0         0         0         0  \n",
       "9          0         0         0         0  \n",
       "10         0         0         0         0  \n",
       "\n",
       "[11 rows x 785 columns]"
      ]
     },
     "execution_count": 80,
     "metadata": {},
     "output_type": "execute_result"
    }
   ],
   "source": [
    "trainDF = pd.read_csv('train.csv')\n",
    "trainDF.head(11)"
   ]
  },
  {
   "cell_type": "code",
   "execution_count": 81,
   "metadata": {},
   "outputs": [],
   "source": [
    "TRAIN = 0.8\n",
    "TEST = 1 - TRAIN\n",
    "NUM_DATA_POINTS = trainDF.shape[0]"
   ]
  },
  {
   "cell_type": "code",
   "execution_count": 82,
   "metadata": {},
   "outputs": [],
   "source": [
    "splitInd = int(NUM_DATA_POINTS * TRAIN)\n",
    "\n",
    "ytrain = trainDF.label.values[:splitInd]\n",
    "xtrain = trainDF.drop('label', axis=1)[:splitInd].values.reshape(splitInd, 28, 28, 1) / 255\n",
    "xtrainR = resize_batch(xtrain)\n",
    "\n",
    "ytest = trainDF.label.values[splitInd:]\n",
    "xtest = trainDF.drop('label', axis=1)[splitInd:].values.reshape(NUM_DATA_POINTS - splitInd, 28, 28, 1) / 255\n",
    "xtestR = resize_batch(xtest)\n"
   ]
  },
  {
   "cell_type": "code",
   "execution_count": 83,
   "metadata": {},
   "outputs": [
    {
     "name": "stdout",
     "output_type": "stream",
     "text": [
      "ytrain has shape (48000,)\n",
      "xtrain has shape (48000, 28, 28, 1)\n",
      "xtrain-resized has shape (48000, 32, 32, 1)\n",
      "\n",
      "ytest has shape (12000,)\n",
      "xtest has shape (12000, 28, 28, 1)\n",
      "xtest-resized has shape (48000, 32, 32, 1)\n"
     ]
    }
   ],
   "source": [
    "print(f\"ytrain has shape {ytrain.shape}\")\n",
    "print(f\"xtrain has shape {xtrain.shape}\")\n",
    "print(f\"xtrain-resized has shape {xtrainR.shape}\\n\")\n",
    "\n",
    "print(f\"ytest has shape {ytest.shape}\")\n",
    "print(f\"xtest has shape {xtest.shape}\")\n",
    "print(f\"xtest-resized has shape {xtrainR.shape}\")\n"
   ]
  },
  {
   "cell_type": "code",
   "execution_count": 86,
   "metadata": {},
   "outputs": [
    {
     "name": "stdout",
     "output_type": "stream",
     "text": [
      "4\n"
     ]
    },
    {
     "data": {
      "text/plain": [
       "<matplotlib.image.AxesImage at 0x7f9767edc310>"
      ]
     },
     "execution_count": 86,
     "metadata": {},
     "output_type": "execute_result"
    },
    {
     "data": {
      "image/png": "[encoded data removed]",
      "text/plain": [
       "<Figure size 432x288 with 1 Axes>"
      ]
     },
     "metadata": {
      "needs_background": "light"
     },
     "output_type": "display_data"
    }
   ],
   "source": [
    "ind = 1234\n",
    "print(ytrain[ind])\n",
    "# plot original\n",
    "plt.imshow(xtrain[ind].reshape(28,28), cmap='Greys')\n"
   ]
  },
  {
   "cell_type": "code",
   "execution_count": 87,
   "metadata": {},
   "outputs": [
    {
     "name": "stdout",
     "output_type": "stream",
     "text": [
      "4\n"
     ]
    },
    {
     "data": {
      "text/plain": [
       "<matplotlib.image.AxesImage at 0x7f97680984d0>"
      ]
     },
     "execution_count": 87,
     "metadata": {},
     "output_type": "execute_result"
    },
    {
     "data": {
      "image/png": "[encoded data removed]",
      "text/plain": [
       "<Figure size 432x288 with 1 Axes>"
      ]
     },
     "metadata": {
      "needs_background": "light"
     },
     "output_type": "display_data"
    }
   ],
   "source": [
    "ind = 1234\n",
    "print(ytrain[ind])\n",
    "\n",
    "# plot resized\n",
    "plt.imshow(xtrainR[ind].reshape(32,32), cmap='Greys')"
   ]
  },
  {
   "cell_type": "markdown",
   "metadata": {},
   "source": [
    "### model and training"
   ]
  },
  {
   "cell_type": "code",
   "execution_count": 88,
   "metadata": {},
   "outputs": [],
   "source": [
    "bmodel = Sequential()\n",
    "\n",
    "bmodel.add(layers.Conv2D(32, (4,4), strides=2, padding='same', activation=tf.nn.leaky_relu, input_shape=(32, 32, 1)))\n",
    "# bmodel.add(layers.LeakyReLU(alpha=0.2))\n",
    "bmodel.add(layers.Dropout(0.5))\n",
    "\n",
    "bmodel.add(layers.Conv2D(64, (4,4), strides=2, padding='same', activation=tf.nn.leaky_relu))\n",
    "# bmodel.add(layers.LeakyReLU(alpha=0.2))\n",
    "bmodel.add(layers.Dropout(0.5))\n",
    "\n",
    "bmodel.add(layers.Conv2D(128, (4,4), strides=2, padding='same', activation=tf.nn.leaky_relu))\n",
    "# bmodel.add(layers.LeakyReLU(alpha=0.2))\n",
    "bmodel.add(layers.Dropout(0.5))\n",
    "\n",
    "bmodel.add(layers.Conv2D(256, (4,4), strides=2, padding='same', activation=tf.nn.leaky_relu))\n",
    "# bmodel.add(layers.LeakyReLU(alpha=0.2))\n",
    "bmodel.add(layers.Dropout(0.5))\n",
    "\n",
    "bmodel.add(layers.Conv2D(512, (4,4), strides=2, padding='same', activation=tf.nn.leaky_relu))\n",
    "# bmodel.add(layers.LeakyReLU(alpha=0.2))\n",
    "bmodel.add(layers.Dropout(0.5))\n",
    "\n",
    "bmodel.add(layers.Flatten())\n",
    "\n",
    "bmodel.add(layers.Dense(10, activation='softmax'))"
   ]
  },
  {
   "cell_type": "code",
   "execution_count": 89,
   "metadata": {},
   "outputs": [
    {
     "name": "stdout",
     "output_type": "stream",
     "text": [
      "Epoch 1/10\n",
      "48000/48000 [==============================] - 249s 5ms/step - loss: 0.2251 - accuracy: 0.9286\n",
      "Epoch 2/10\n",
      "48000/48000 [==============================] - 268s 6ms/step - loss: 0.1251 - accuracy: 0.9614\n",
      "Epoch 3/10\n",
      "48000/48000 [==============================] - 268s 6ms/step - loss: 0.1197 - accuracy: 0.9647\n",
      "Epoch 4/10\n",
      "48000/48000 [==============================] - 292s 6ms/step - loss: 0.1095 - accuracy: 0.9677\n",
      "Epoch 5/10\n",
      "48000/48000 [==============================] - 252s 5ms/step - loss: 0.1107 - accuracy: 0.9676\n",
      "Epoch 6/10\n",
      "48000/48000 [==============================] - 243s 5ms/step - loss: 0.1148 - accuracy: 0.9666\n",
      "Epoch 7/10\n",
      "48000/48000 [==============================] - 259s 5ms/step - loss: 0.1075 - accuracy: 0.9690\n",
      "Epoch 8/10\n",
      "48000/48000 [==============================] - 244s 5ms/step - loss: 0.1160 - accuracy: 0.9676\n",
      "Epoch 9/10\n",
      "48000/48000 [==============================] - 242s 5ms/step - loss: 0.1192 - accuracy: 0.9679\n",
      "Epoch 10/10\n",
      "48000/48000 [==============================] - 244s 5ms/step - loss: 0.1204 - accuracy: 0.9670\n"
     ]
    },
    {
     "data": {
      "text/plain": [
       "<keras.callbacks.callbacks.History at 0x7f9767f77c10>"
      ]
     },
     "execution_count": 89,
     "metadata": {},
     "output_type": "execute_result"
    }
   ],
   "source": [
    "bmodel.compile(optimizer='adam',loss='sparse_categorical_crossentropy',metrics=['accuracy'])\n",
    "bmodel.fit(x=xtrainR, y=ytrain, epochs=10) # chagne to 5 for future trainings"
   ]
  },
  {
   "cell_type": "markdown",
   "metadata": {},
   "source": [
    "### K-MNIST baseline model has high test accuracy"
   ]
  },
  {
   "cell_type": "code",
   "execution_count": 90,
   "metadata": {},
   "outputs": [
    {
     "name": "stdout",
     "output_type": "stream",
     "text": [
      "12000/12000 [==============================] - 17s 1ms/step\n"
     ]
    },
    {
     "data": {
      "text/plain": [
       "[0.04158275653959329, 0.9878333210945129]"
      ]
     },
     "execution_count": 90,
     "metadata": {},
     "output_type": "execute_result"
    }
   ],
   "source": [
    "bmodel.evaluate(xtestR, ytest)"
   ]
  },
  {
   "cell_type": "markdown",
   "metadata": {},
   "source": [
    "# Dig-MNIST basline"
   ]
  },
  {
   "cell_type": "code",
   "execution_count": null,
   "metadata": {},
   "outputs": [],
   "source": [
    "trainDig = pd.read_csv('Dig-MNIST.csv')"
   ]
  },
  {
   "cell_type": "code",
   "execution_count": null,
   "metadata": {},
   "outputs": [],
   "source": [
    "trainDig.shape"
   ]
  },
  {
   "cell_type": "code",
   "execution_count": 91,
   "metadata": {},
   "outputs": [],
   "source": [
    "ytestDig = trainDig.label.values\n",
    "xtestDig = trainDig.drop('label', axis=1).values.reshape(-1, 28, 28, 1) / 255\n",
    "xtestDigR = resize_batch(xtestDig)"
   ]
  },
  {
   "cell_type": "code",
   "execution_count": 92,
   "metadata": {},
   "outputs": [
    {
     "name": "stdout",
     "output_type": "stream",
     "text": [
      "3\n"
     ]
    },
    {
     "data": {
      "text/plain": [
       "<matplotlib.image.AxesImage at 0x7f976df08650>"
      ]
     },
     "execution_count": 92,
     "metadata": {},
     "output_type": "execute_result"
    },
    {
     "data": {
      "image/png": "[encoded data removed]",
      "text/plain": [
       "<Figure size 432x288 with 1 Axes>"
      ]
     },
     "metadata": {
      "needs_background": "light"
     },
     "output_type": "display_data"
    }
   ],
   "source": [
    "ind2 = 123\n",
    "print(ytestDig[ind2])\n",
    "# plt.imshow(xtrainDig[ind2].reshape(28,28), cmap='Greys')\n",
    "plt.imshow(xtrainDigR[ind2].reshape(32,32), cmap='Greys')"
   ]
  },
  {
   "cell_type": "markdown",
   "metadata": {},
   "source": [
    "### K-MNIST baseline model does not work well on Dig-MNIST"
   ]
  },
  {
   "cell_type": "code",
   "execution_count": 93,
   "metadata": {},
   "outputs": [
    {
     "name": "stdout",
     "output_type": "stream",
     "text": [
      "10240/10240 [==============================] - 16s 2ms/step\n"
     ]
    },
    {
     "data": {
      "text/plain": [
       "[1.4037973352707922, 0.749218761920929]"
      ]
     },
     "execution_count": 93,
     "metadata": {},
     "output_type": "execute_result"
    }
   ],
   "source": [
    "bmodel.evaluate(xtestDigR, ytestDig)"
   ]
  },
  {
   "cell_type": "markdown",
   "metadata": {},
   "source": [
    "## Dig-MNIST model and training"
   ]
  },
  {
   "cell_type": "code",
   "execution_count": 95,
   "metadata": {},
   "outputs": [],
   "source": [
    "splitI = int(TRAIN * trainDig.shape[0])\n",
    "\n",
    "ytrainDig = trainDig.label.values[:splitI]\n",
    "xtrainDigR = xtestDigR[:splitI]\n",
    "# xtrainDig = trainDig.drop('label', axis=1)[:splitI].values.reshape(-1, 28, 28, 1) / 255\n",
    "# xtrainDigR = resize_batch(xtrainDig)\n",
    "\n",
    "ytestDig2 = trainDig.label.values[splitI:]\n",
    "xtestDig2 = xtestDigR[splitI:]\n",
    "# xtestDig2 = trainDig.drop('label', axis=1)[splitI:].values.reshape(-1, 28, 28, 1) / 255\n",
    "# xtestDig2R = resize_batch(xtestDig2)"
   ]
  },
  {
   "cell_type": "code",
   "execution_count": 96,
   "metadata": {},
   "outputs": [
    {
     "data": {
      "text/plain": [
       "(2048, 32, 32, 1)"
      ]
     },
     "execution_count": 96,
     "metadata": {},
     "output_type": "execute_result"
    }
   ],
   "source": [
    "xtestDig2.shape"
   ]
  },
  {
   "cell_type": "code",
   "execution_count": 97,
   "metadata": {},
   "outputs": [],
   "source": [
    "digmodel = Sequential()\n",
    "\n",
    "digmodel.add(layers.Conv2D(32, (4,4), strides=2, padding='same', activation=tf.nn.leaky_relu, input_shape=(32, 32, 1)))\n",
    "# digmodel.add(layers.LeakyReLU(alpha=0.2))\n",
    "digmodel.add(layers.Dropout(0.5))\n",
    "\n",
    "digmodel.add(layers.Conv2D(64, (4,4), strides=2, padding='same', activation=tf.nn.leaky_relu))\n",
    "# digmodel.add(layers.LeakyReLU(alpha=0.2))\n",
    "digmodel.add(layers.Dropout(0.5))\n",
    "\n",
    "digmodel.add(layers.Conv2D(128, (4,4), strides=2, padding='same', activation=tf.nn.leaky_relu))\n",
    "# digmodel.add(layers.LeakyReLU(alpha=0.2))\n",
    "digmodel.add(layers.Dropout(0.5))\n",
    "\n",
    "digmodel.add(layers.Conv2D(256, (4,4), strides=2, padding='same', activation=tf.nn.leaky_relu))\n",
    "# digmodel.add(layers.LeakyReLU(alpha=0.2))\n",
    "digmodel.add(layers.Dropout(0.5))\n",
    "\n",
    "digmodel.add(layers.Conv2D(512, (4,4), strides=2, padding='same', activation=tf.nn.leaky_relu))\n",
    "# digmodel.add(layers.LeakyReLU(alpha=0.2))\n",
    "\n",
    "digmodel.add(layers.Flatten())\n",
    "\n",
    "digmodel.add(layers.Dense(10, activation='softmax'))"
   ]
  },
  {
   "cell_type": "code",
   "execution_count": 98,
   "metadata": {},
   "outputs": [
    {
     "name": "stdout",
     "output_type": "stream",
     "text": [
      "Epoch 1/10\n",
      "8192/8192 [==============================] - 52s 6ms/step - loss: 0.8746 - accuracy: 0.7096\n",
      "Epoch 2/10\n",
      "8192/8192 [==============================] - 48s 6ms/step - loss: 0.4715 - accuracy: 0.8492\n",
      "Epoch 3/10\n",
      "8192/8192 [==============================] - 45s 6ms/step - loss: 0.3786 - accuracy: 0.8789\n",
      "Epoch 4/10\n",
      "8192/8192 [==============================] - 48s 6ms/step - loss: 0.3336 - accuracy: 0.8945\n",
      "Epoch 5/10\n",
      "8192/8192 [==============================] - 40s 5ms/step - loss: 0.3040 - accuracy: 0.9041\n",
      "Epoch 6/10\n",
      "8192/8192 [==============================] - 40s 5ms/step - loss: 0.2843 - accuracy: 0.9081\n",
      "Epoch 7/10\n",
      "8192/8192 [==============================] - 40s 5ms/step - loss: 0.2729 - accuracy: 0.9122\n",
      "Epoch 8/10\n",
      "8192/8192 [==============================] - 41s 5ms/step - loss: 0.2457 - accuracy: 0.9180\n",
      "Epoch 9/10\n",
      "8192/8192 [==============================] - 40s 5ms/step - loss: 0.2374 - accuracy: 0.9233\n",
      "Epoch 10/10\n",
      "8192/8192 [==============================] - 41s 5ms/step - loss: 0.2242 - accuracy: 0.9225\n"
     ]
    },
    {
     "data": {
      "text/plain": [
       "<keras.callbacks.callbacks.History at 0x7f976deaef10>"
      ]
     },
     "execution_count": 98,
     "metadata": {},
     "output_type": "execute_result"
    }
   ],
   "source": [
    "digmodel.compile(optimizer='adam',loss='sparse_categorical_crossentropy',metrics=['accuracy'])\n",
    "digmodel.fit(x=xtrainDigR, y=ytrainDig, epochs=10)"
   ]
  },
  {
   "cell_type": "markdown",
   "metadata": {},
   "source": [
    "### Dig-MNIST model has pretty good test accuracy"
   ]
  },
  {
   "cell_type": "code",
   "execution_count": 99,
   "metadata": {},
   "outputs": [
    {
     "name": "stdout",
     "output_type": "stream",
     "text": [
      "2048/2048 [==============================] - 3s 2ms/step\n"
     ]
    },
    {
     "data": {
      "text/plain": [
       "[0.20095989829860628, 0.93994140625]"
      ]
     },
     "execution_count": 99,
     "metadata": {},
     "output_type": "execute_result"
    }
   ],
   "source": [
    "digmodel.evaluate(xtestDig2R, ytestDig2)"
   ]
  },
  {
   "cell_type": "markdown",
   "metadata": {},
   "source": [
    "## Dig-MNIST model also not great for Kannada-MNIST"
   ]
  },
  {
   "cell_type": "code",
   "execution_count": null,
   "metadata": {},
   "outputs": [],
   "source": [
    "digmodel.evaluate(xtestR, ytest)"
   ]
  },
  {
   "cell_type": "code",
   "execution_count": null,
   "metadata": {},
   "outputs": [],
   "source": []
  }
 ],
 "metadata": {
  "kernelspec": {
   "display_name": "Python 3",
   "language": "python",
   "name": "python3"
  },
  "language_info": {
   "codemirror_mode": {
    "name": "ipython",
    "version": 3
   },
   "file_extension": ".py",
   "mimetype": "text/x-python",
   "name": "python",
   "nbconvert_exporter": "python",
   "pygments_lexer": "ipython3",
   "version": "3.7.5"
  }
 },
 "nbformat": 4,
 "nbformat_minor": 4
}
